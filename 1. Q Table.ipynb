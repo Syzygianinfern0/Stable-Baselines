{
 "cells": [
  {
   "cell_type": "code",
   "execution_count": 1,
   "metadata": {
    "collapsed": true,
    "pycharm": {
     "is_executing": false
    }
   },
   "outputs": [],
   "source": [
    "from collections import deque\n",
    "\n",
    "import gym\n",
    "import numpy as np"
   ]
  },
  {
   "cell_type": "code",
   "execution_count": 2,
   "outputs": [],
   "source": [
    "env = gym.make('FrozenLake-v0')\n",
    "# env = gym.make('FrozenLake8x8-v0')"
   ],
   "metadata": {
    "collapsed": false,
    "pycharm": {
     "name": "#%%\n",
     "is_executing": false
    }
   }
  },
  {
   "cell_type": "code",
   "execution_count": 3,
   "outputs": [
    {
     "name": "stdout",
     "text": [
      "[[0. 0. 0. 0.]\n",
      " [0. 0. 0. 0.]\n",
      " [0. 0. 0. 0.]\n",
      " [0. 0. 0. 0.]\n",
      " [0. 0. 0. 0.]\n",
      " [0. 0. 0. 0.]\n",
      " [0. 0. 0. 0.]\n",
      " [0. 0. 0. 0.]\n",
      " [0. 0. 0. 0.]\n",
      " [0. 0. 0. 0.]\n",
      " [0. 0. 0. 0.]\n",
      " [0. 0. 0. 0.]\n",
      " [0. 0. 0. 0.]\n",
      " [0. 0. 0. 0.]\n",
      " [0. 0. 0. 0.]\n",
      " [0. 0. 0. 0.]]\n"
     ],
     "output_type": "stream"
    }
   ],
   "source": [
    "no_actions = env.action_space.n\n",
    "no_states = env.observation_space.n\n",
    "\n",
    "q_table = np.zeros((no_states, no_actions))\n",
    "print(q_table)"
   ],
   "metadata": {
    "collapsed": false,
    "pycharm": {
     "name": "#%%\n",
     "is_executing": false
    }
   }
  },
  {
   "cell_type": "code",
   "execution_count": 4,
   "outputs": [],
   "source": [
    "EPISODES = 1000\n",
    "LEARNING_RATE = 0.5\n",
    "MAX_STEPS = 100\n",
    "GAMMA = 0.99\n",
    "MAX_EPSILON = EPSILON = 1.0\n",
    "MIN_EPSILON = 1e-2\n",
    "DECAY_RATE = 0.005"
   ],
   "metadata": {
    "collapsed": false,
    "pycharm": {
     "name": "#%%\n",
     "is_executing": false
    }
   }
  },
  {
   "cell_type": "code",
   "execution_count": 5,
   "outputs": [
    {
     "name": "stdout",
     "text": [
      "Episode : 0\n",
      "Best Reward : 0.0\n",
      "Mean over last 50 : 0.0\n",
      "Epsilon : 1.0\n",
      "\n",
      "Episode : 30\n",
      "Best Reward : 0.0\n",
      "Mean over last 50 : 0.0\n",
      "Epsilon : 0.8621008966608072\n",
      "\n",
      "Episode : 60\n",
      "Best Reward : 0.0\n",
      "Mean over last 50 : 0.0\n",
      "Epsilon : 0.7434100384749007\n",
      "\n",
      "Episode : 90\n",
      "Best Reward : 0.0\n",
      "Mean over last 50 : 0.0\n",
      "Epsilon : 0.6412518701055556\n",
      "\n",
      "Episode : 120\n",
      "Best Reward : 0.0\n",
      "Mean over last 50 : 0.0\n",
      "Epsilon : 0.5533235197330861\n",
      "\n",
      "Episode : 150\n",
      "Best Reward : 1.0\n",
      "Mean over last 50 : 0.02\n",
      "Epsilon : 0.47764288721360454\n",
      "\n",
      "Episode : 180\n",
      "Best Reward : 1.0\n",
      "Mean over last 50 : 0.04\n",
      "Epsilon : 0.4125039631431931\n",
      "\n",
      "Episode : 210\n",
      "Best Reward : 1.0\n",
      "Mean over last 50 : 0.04\n",
      "Epsilon : 0.35643837162004377\n",
      "\n",
      "Episode : 240\n",
      "Best Reward : 1.0\n",
      "Mean over last 50 : 0.12\n",
      "Epsilon : 0.3081822697930801\n",
      "\n",
      "Episode : 270\n",
      "Best Reward : 1.0\n",
      "Mean over last 50 : 0.04\n",
      "Epsilon : 0.2666478580394326\n",
      "\n",
      "Episode : 300\n",
      "Best Reward : 1.0\n",
      "Mean over last 50 : 0.04\n",
      "Epsilon : 0.23089885854694553\n",
      "\n",
      "Episode : 330\n",
      "Best Reward : 1.0\n",
      "Mean over last 50 : 0.06\n",
      "Epsilon : 0.20012940953454655\n",
      "\n",
      "Episode : 360\n",
      "Best Reward : 1.0\n",
      "Mean over last 50 : 0.06\n",
      "Epsilon : 0.17364589933937066\n",
      "\n",
      "Episode : 390\n",
      "Best Reward : 1.0\n",
      "Mean over last 50 : 0.02\n",
      "Epsilon : 0.15085133087064845\n",
      "\n",
      "Episode : 420\n",
      "Best Reward : 1.0\n",
      "Mean over last 50 : 0.1\n",
      "Epsilon : 0.13123186397045208\n",
      "\n",
      "Episode : 450\n",
      "Best Reward : 1.0\n",
      "Mean over last 50 : 0.22\n",
      "Epsilon : 0.11434523231624569\n",
      "\n",
      "Episode : 480\n",
      "Best Reward : 1.0\n",
      "Mean over last 50 : 0.26\n",
      "Epsilon : 0.09981077375651838\n",
      "\n",
      "Episode : 510\n",
      "Best Reward : 1.0\n",
      "Mean over last 50 : 0.28\n",
      "Epsilon : 0.08730084934114159\n",
      "\n",
      "Episode : 540\n",
      "Best Reward : 1.0\n",
      "Mean over last 50 : 0.22\n",
      "Epsilon : 0.07653345761235225\n",
      "\n",
      "Episode : 570\n",
      "Best Reward : 1.0\n",
      "Mean over last 50 : 0.4\n",
      "Epsilon : 0.06726587766609007\n",
      "\n",
      "Episode : 600\n",
      "Best Reward : 1.0\n",
      "Mean over last 50 : 0.4\n",
      "Epsilon : 0.05928919768418531\n",
      "\n",
      "Episode : 630\n",
      "Best Reward : 1.0\n",
      "Mean over last 50 : 0.44\n",
      "Epsilon : 0.05242360559836979\n",
      "\n",
      "Episode : 660\n",
      "Best Reward : 1.0\n",
      "Mean over last 50 : 0.54\n",
      "Epsilon : 0.046514335727227595\n",
      "\n",
      "Episode : 690\n",
      "Best Reward : 1.0\n",
      "Mean over last 50 : 0.48\n",
      "Epsilon : 0.04142818001428726\n",
      "\n",
      "Episode : 720\n",
      "Best Reward : 1.0\n",
      "Mean over last 50 : 0.32\n",
      "Epsilon : 0.03705048522281963\n",
      "\n",
      "Episode : 750\n",
      "Best Reward : 1.0\n",
      "Mean over last 50 : 0.48\n",
      "Epsilon : 0.03328256839744902\n",
      "\n",
      "Episode : 780\n",
      "Best Reward : 1.0\n",
      "Mean over last 50 : 0.6\n",
      "Epsilon : 0.030039492331346347\n",
      "\n",
      "Episode : 810\n",
      "Best Reward : 1.0\n",
      "Mean over last 50 : 0.62\n",
      "Epsilon : 0.02724815089309858\n",
      "\n",
      "Episode : 840\n",
      "Best Reward : 1.0\n",
      "Mean over last 50 : 0.52\n",
      "Epsilon : 0.024845621052272927\n",
      "\n",
      "Episode : 870\n",
      "Best Reward : 1.0\n",
      "Mean over last 50 : 0.64\n",
      "Epsilon : 0.022777744454675064\n",
      "\n",
      "Episode : 900\n",
      "Best Reward : 1.0\n",
      "Mean over last 50 : 0.58\n",
      "Epsilon : 0.02099790657285988\n",
      "\n",
      "Episode : 930\n",
      "Best Reward : 1.0\n",
      "Mean over last 50 : 0.3\n",
      "Epsilon : 0.01946598591123807\n",
      "\n",
      "Episode : 960\n",
      "Best Reward : 1.0\n",
      "Mean over last 50 : 0.58\n",
      "Epsilon : 0.01814744957852983\n",
      "\n",
      "Episode : 990\n",
      "Best Reward : 1.0\n",
      "Mean over last 50 : 0.66\n",
      "Epsilon : 0.017012574839761596\n",
      "\n"
     ],
     "output_type": "stream"
    }
   ],
   "source": [
    "rewards = []\n",
    "rewards_dq = deque(maxlen=50)\n",
    "\n",
    "for episode in range(EPISODES):\n",
    "    # noinspection PyRedeclaration\n",
    "    state = env.reset()\n",
    "    done = False\n",
    "    total_reward = 0\n",
    "    for step in range(MAX_STEPS):\n",
    "        if np.random.uniform(0, 1) > EPSILON:\n",
    "            action = np.argmax(q_table[state])\n",
    "        else:\n",
    "            action = env.action_space.sample()\n",
    "        next_state, reward, done, _ = env.step(action)\n",
    "        total_reward += reward\n",
    "        \n",
    "        q_table[state, action] += LEARNING_RATE * \\\n",
    "                                  (reward + GAMMA * np.max(q_table[next_state]) - q_table[state, action])\n",
    "        state = next_state\n",
    "        if done:\n",
    "            break\n",
    "    EPSILON = MIN_EPSILON + (MAX_EPSILON - MIN_EPSILON) * np.exp(-1 * DECAY_RATE * episode)\n",
    "    rewards.append(total_reward)\n",
    "    rewards_dq.append(total_reward)\n",
    "    \n",
    "    if not episode % 30:\n",
    "        print(f'Episode : {episode}')\n",
    "        print(f'Best Reward : {max(rewards)}')\n",
    "        print(f'Mean over last 50 : {np.mean(rewards_dq)}')\n",
    "        print(f'Epsilon : {EPSILON}')\n",
    "        print()\n",
    "        if np.mean(rewards_dq) > 0.9:\n",
    "            break\n",
    "    "
   ],
   "metadata": {
    "collapsed": false,
    "pycharm": {
     "name": "#%%\n",
     "is_executing": false
    }
   }
  },
  {
   "cell_type": "code",
   "execution_count": 6,
   "outputs": [
    {
     "data": {
      "text/plain": "array([[0.62935606, 0.47817861, 0.53141501, 0.55338512],\n       [0.07335034, 0.29230532, 0.07294793, 0.58813884],\n       [0.28003811, 0.26346113, 0.40033356, 0.51111403],\n       [0.37392267, 0.05521811, 0.29841734, 0.4249082 ],\n       [0.67586247, 0.25800338, 0.10966793, 0.34357385],\n       [0.        , 0.        , 0.        , 0.        ],\n       [0.01882447, 0.03641112, 0.39610414, 0.0261328 ],\n       [0.        , 0.        , 0.        , 0.        ],\n       [0.40274249, 0.36816774, 0.45442988, 0.71014255],\n       [0.16377347, 0.62859453, 0.01043702, 0.7132863 ],\n       [0.69582614, 0.06020267, 0.29294686, 0.0481077 ],\n       [0.        , 0.        , 0.        , 0.        ],\n       [0.        , 0.        , 0.        , 0.        ],\n       [0.29930476, 0.19381275, 0.80223447, 0.71247816],\n       [0.70733744, 0.93955437, 0.77348116, 0.80062384],\n       [0.        , 0.        , 0.        , 0.        ]])"
     },
     "metadata": {},
     "output_type": "execute_result",
     "execution_count": 6
    }
   ],
   "source": [
    "q_table"
   ],
   "metadata": {
    "collapsed": false,
    "pycharm": {
     "name": "#%%\n",
     "is_executing": false
    }
   }
  }
 ],
 "metadata": {
  "kernelspec": {
   "display_name": "Python 3",
   "language": "python",
   "name": "python3"
  },
  "language_info": {
   "codemirror_mode": {
    "name": "ipython",
    "version": 2
   },
   "file_extension": ".py",
   "mimetype": "text/x-python",
   "name": "python",
   "nbconvert_exporter": "python",
   "pygments_lexer": "ipython2",
   "version": "2.7.6"
  },
  "pycharm": {
   "stem_cell": {
    "cell_type": "raw",
    "source": [],
    "metadata": {
     "collapsed": false
    }
   }
  }
 },
 "nbformat": 4,
 "nbformat_minor": 0
}