{
 "cells": [
  {
   "cell_type": "code",
   "execution_count": 1,
   "metadata": {
    "collapsed": true,
    "pycharm": {
     "is_executing": false
    }
   },
   "outputs": [],
   "source": [
    "from collections import deque\n",
    "\n",
    "import gym\n",
    "import numpy as np\n",
    "\n",
    "from config import *"
   ]
  },
  {
   "cell_type": "code",
   "execution_count": 2,
   "outputs": [],
   "source": [
    "env = gym.make('FrozenLake-v0')\n",
    "# env = gym.make('FrozenLake8x8-v0')"
   ],
   "metadata": {
    "collapsed": false,
    "pycharm": {
     "name": "#%%\n",
     "is_executing": false
    }
   }
  },
  {
   "cell_type": "code",
   "execution_count": 3,
   "outputs": [
    {
     "name": "stdout",
     "text": [
      "[[0. 0. 0. 0.]\n",
      " [0. 0. 0. 0.]\n",
      " [0. 0. 0. 0.]\n",
      " [0. 0. 0. 0.]\n",
      " [0. 0. 0. 0.]\n",
      " [0. 0. 0. 0.]\n",
      " [0. 0. 0. 0.]\n",
      " [0. 0. 0. 0.]\n",
      " [0. 0. 0. 0.]\n",
      " [0. 0. 0. 0.]\n",
      " [0. 0. 0. 0.]\n",
      " [0. 0. 0. 0.]\n",
      " [0. 0. 0. 0.]\n",
      " [0. 0. 0. 0.]\n",
      " [0. 0. 0. 0.]\n",
      " [0. 0. 0. 0.]]\n"
     ],
     "output_type": "stream"
    }
   ],
   "source": [
    "no_actions = env.action_space.n\n",
    "no_states = env.observation_space.n\n",
    "\n",
    "q_table = np.zeros((no_states, no_actions))\n",
    "print(q_table)"
   ],
   "metadata": {
    "collapsed": false,
    "pycharm": {
     "name": "#%%\n",
     "is_executing": false
    }
   }
  },
  {
   "cell_type": "code",
   "execution_count": 4,
   "outputs": [
    {
     "name": "stdout",
     "text": [
      "Episode : 0\n",
      "Best Reward : 0.0\n",
      "Mean over last 50 : 0.0\n",
      "Epsilon : 1.0\n",
      "\n",
      "Episode : 30\n",
      "Best Reward : 0.0\n",
      "Mean over last 50 : 0.0\n",
      "Epsilon : 0.8621008966608072\n",
      "\n",
      "Episode : 60\n",
      "Best Reward : 0.0\n",
      "Mean over last 50 : 0.0\n",
      "Epsilon : 0.7434100384749007\n",
      "\n",
      "Episode : 90\n",
      "Best Reward : 0.0\n",
      "Mean over last 50 : 0.0\n",
      "Epsilon : 0.6412518701055556\n",
      "\n",
      "Episode : 120\n",
      "Best Reward : 1.0\n",
      "Mean over last 50 : 0.02\n",
      "Epsilon : 0.5533235197330861\n",
      "\n",
      "Episode : 150\n",
      "Best Reward : 1.0\n",
      "Mean over last 50 : 0.06\n",
      "Epsilon : 0.47764288721360454\n",
      "\n",
      "Episode : 180\n",
      "Best Reward : 1.0\n",
      "Mean over last 50 : 0.06\n",
      "Epsilon : 0.4125039631431931\n",
      "\n",
      "Episode : 210\n",
      "Best Reward : 1.0\n",
      "Mean over last 50 : 0.06\n",
      "Epsilon : 0.35643837162004377\n",
      "\n",
      "Episode : 240\n",
      "Best Reward : 1.0\n",
      "Mean over last 50 : 0.06\n",
      "Epsilon : 0.3081822697930801\n",
      "\n",
      "Episode : 270\n",
      "Best Reward : 1.0\n",
      "Mean over last 50 : 0.08\n",
      "Epsilon : 0.2666478580394326\n",
      "\n",
      "Episode : 300\n",
      "Best Reward : 1.0\n",
      "Mean over last 50 : 0.08\n",
      "Epsilon : 0.23089885854694553\n",
      "\n",
      "Episode : 330\n",
      "Best Reward : 1.0\n",
      "Mean over last 50 : 0.06\n",
      "Epsilon : 0.20012940953454655\n",
      "\n",
      "Episode : 360\n",
      "Best Reward : 1.0\n",
      "Mean over last 50 : 0.1\n",
      "Epsilon : 0.17364589933937066\n",
      "\n",
      "Episode : 390\n",
      "Best Reward : 1.0\n",
      "Mean over last 50 : 0.14\n",
      "Epsilon : 0.15085133087064845\n",
      "\n",
      "Episode : 420\n",
      "Best Reward : 1.0\n",
      "Mean over last 50 : 0.2\n",
      "Epsilon : 0.13123186397045208\n",
      "\n",
      "Episode : 450\n",
      "Best Reward : 1.0\n",
      "Mean over last 50 : 0.28\n",
      "Epsilon : 0.11434523231624569\n",
      "\n",
      "Episode : 480\n",
      "Best Reward : 1.0\n",
      "Mean over last 50 : 0.36\n",
      "Epsilon : 0.09981077375651838\n",
      "\n",
      "Episode : 510\n",
      "Best Reward : 1.0\n",
      "Mean over last 50 : 0.3\n",
      "Epsilon : 0.08730084934114159\n",
      "\n",
      "Episode : 540\n",
      "Best Reward : 1.0\n",
      "Mean over last 50 : 0.4\n",
      "Epsilon : 0.07653345761235225\n",
      "\n",
      "Episode : 570\n",
      "Best Reward : 1.0\n",
      "Mean over last 50 : 0.3\n",
      "Epsilon : 0.06726587766609007\n",
      "\n",
      "Episode : 600\n",
      "Best Reward : 1.0\n",
      "Mean over last 50 : 0.12\n",
      "Epsilon : 0.05928919768418531\n",
      "\n",
      "Episode : 630\n",
      "Best Reward : 1.0\n",
      "Mean over last 50 : 0.24\n",
      "Epsilon : 0.05242360559836979\n",
      "\n",
      "Episode : 660\n",
      "Best Reward : 1.0\n",
      "Mean over last 50 : 0.42\n",
      "Epsilon : 0.046514335727227595\n",
      "\n",
      "Episode : 690\n",
      "Best Reward : 1.0\n",
      "Mean over last 50 : 0.44\n",
      "Epsilon : 0.04142818001428726\n",
      "\n",
      "Episode : 720\n",
      "Best Reward : 1.0\n",
      "Mean over last 50 : 0.36\n",
      "Epsilon : 0.03705048522281963\n",
      "\n",
      "Episode : 750\n",
      "Best Reward : 1.0\n",
      "Mean over last 50 : 0.58\n",
      "Epsilon : 0.03328256839744902\n",
      "\n",
      "Episode : 780\n",
      "Best Reward : 1.0\n",
      "Mean over last 50 : 0.7\n",
      "Epsilon : 0.030039492331346347\n",
      "\n",
      "Episode : 810\n",
      "Best Reward : 1.0\n",
      "Mean over last 50 : 0.56\n",
      "Epsilon : 0.02724815089309858\n",
      "\n",
      "Episode : 840\n",
      "Best Reward : 1.0\n",
      "Mean over last 50 : 0.52\n",
      "Epsilon : 0.024845621052272927\n",
      "\n",
      "Episode : 870\n",
      "Best Reward : 1.0\n",
      "Mean over last 50 : 0.46\n",
      "Epsilon : 0.022777744454675064\n",
      "\n",
      "Episode : 900\n",
      "Best Reward : 1.0\n",
      "Mean over last 50 : 0.48\n",
      "Epsilon : 0.02099790657285988\n",
      "\n",
      "Episode : 930\n",
      "Best Reward : 1.0\n",
      "Mean over last 50 : 0.42\n",
      "Epsilon : 0.01946598591123807\n",
      "\n",
      "Episode : 960\n",
      "Best Reward : 1.0\n",
      "Mean over last 50 : 0.48\n",
      "Epsilon : 0.01814744957852983\n",
      "\n",
      "Episode : 990\n",
      "Best Reward : 1.0\n",
      "Mean over last 50 : 0.54\n",
      "Epsilon : 0.017012574839761596\n",
      "\n"
     ],
     "output_type": "stream"
    }
   ],
   "source": [
    "rewards = []\n",
    "rewards_dq = deque(maxlen=50)\n",
    "\n",
    "for episode in range(EPISODES):\n",
    "    # noinspection PyRedeclaration\n",
    "    state = env.reset()\n",
    "    done = False\n",
    "    total_reward = 0\n",
    "    for step in range(MAX_STEPS):\n",
    "        if np.random.uniform(0, 1) > EPSILON:\n",
    "            action = np.argmax(q_table[state])\n",
    "        else:\n",
    "            action = env.action_space.sample()\n",
    "        next_state, reward, done, _ = env.step(action)\n",
    "        total_reward += reward\n",
    "        \n",
    "        q_table[state, action] += LEARNING_RATE * \\\n",
    "                                  (reward + GAMMA * np.max(q_table[next_state]) - q_table[state, action])\n",
    "        state = next_state\n",
    "        if done:\n",
    "            break\n",
    "    EPSILON = MIN_EPSILON + (MAX_EPSILON - MIN_EPSILON) * np.exp(-1 * DECAY_RATE * episode)\n",
    "    rewards.append(total_reward)\n",
    "    rewards_dq.append(total_reward)\n",
    "    \n",
    "    if not episode % 30:\n",
    "        print(f'Episode : {episode}')\n",
    "        print(f'Best Reward : {max(rewards)}')\n",
    "        print(f'Mean over last 50 : {np.mean(rewards_dq)}')\n",
    "        print(f'Epsilon : {EPSILON}')\n",
    "        print()\n",
    "        if np.mean(rewards_dq) > 0.9:\n",
    "            break\n",
    "    "
   ],
   "metadata": {
    "collapsed": false,
    "pycharm": {
     "name": "#%%\n",
     "is_executing": false
    }
   }
  },
  {
   "cell_type": "code",
   "execution_count": 5,
   "outputs": [
    {
     "data": {
      "text/plain": "array([[0.45647261, 0.4434007 , 0.4289848 , 0.42197905],\n       [0.33347152, 0.24919086, 0.1867116 , 0.42764042],\n       [0.15455669, 0.28522851, 0.34804368, 0.3689325 ],\n       [0.15773419, 0.15079285, 0.23878287, 0.36727747],\n       [0.49937763, 0.0879884 , 0.40830513, 0.26164885],\n       [0.        , 0.        , 0.        , 0.        ],\n       [0.10388902, 0.00700084, 0.02113334, 0.00870911],\n       [0.        , 0.        , 0.        , 0.        ],\n       [0.20069865, 0.26585405, 0.23568583, 0.40330223],\n       [0.16895403, 0.45159084, 0.17505916, 0.06763888],\n       [0.62597868, 0.12907945, 0.08939419, 0.1036465 ],\n       [0.        , 0.        , 0.        , 0.        ],\n       [0.        , 0.        , 0.        , 0.        ],\n       [0.47204032, 0.41926142, 0.69055798, 0.58011082],\n       [0.6444194 , 0.95931375, 0.68009919, 0.67151036],\n       [0.        , 0.        , 0.        , 0.        ]])"
     },
     "metadata": {},
     "output_type": "execute_result",
     "execution_count": 5
    }
   ],
   "source": [
    "q_table"
   ],
   "metadata": {
    "collapsed": false,
    "pycharm": {
     "name": "#%%\n",
     "is_executing": false
    }
   }
  }
 ],
 "metadata": {
  "kernelspec": {
   "display_name": "Python 3",
   "language": "python",
   "name": "python3"
  },
  "language_info": {
   "codemirror_mode": {
    "name": "ipython",
    "version": 2
   },
   "file_extension": ".py",
   "mimetype": "text/x-python",
   "name": "python",
   "nbconvert_exporter": "python",
   "pygments_lexer": "ipython2",
   "version": "2.7.6"
  },
  "pycharm": {
   "stem_cell": {
    "cell_type": "raw",
    "source": [],
    "metadata": {
     "collapsed": false
    }
   }
  }
 },
 "nbformat": 4,
 "nbformat_minor": 0
}