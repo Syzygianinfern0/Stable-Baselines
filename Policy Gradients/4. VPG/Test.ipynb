{
 "cells": [
  {
   "cell_type": "code",
   "execution_count": 1,
   "metadata": {
    "collapsed": true,
    "pycharm": {
     "is_executing": false
    }
   },
   "outputs": [],
   "source": [
    "import gym\n",
    "\n",
    "from config import *\n",
    "from policy import *"
   ]
  },
  {
   "cell_type": "code",
   "execution_count": 2,
   "outputs": [
    {
     "name": "stdout",
     "text": [
      "state size: 4\n",
      "action size: 2\n"
     ],
     "output_type": "stream"
    },
    {
     "data": {
      "text/plain": "VPG(\n  (net): Sequential(\n    (0): Linear(in_features=4, out_features=32, bias=True)\n    (1): Tanh()\n    (2): Linear(in_features=32, out_features=2, bias=True)\n  )\n)"
     },
     "metadata": {},
     "output_type": "execute_result",
     "execution_count": 2
    }
   ],
   "source": [
    "env = gym.make(env_name)\n",
    "env.seed(500)\n",
    "torch.manual_seed(500)\n",
    "\n",
    "num_inputs = env.observation_space.shape[0]\n",
    "num_actions = env.action_space.n\n",
    "print('state size:', num_inputs)\n",
    "print('action size:', num_actions)\n",
    "\n",
    "net: VPG = VPG(num_inputs, num_actions)\n",
    "net.to(device)"
   ],
   "metadata": {
    "collapsed": false,
    "pycharm": {
     "name": "#%%\n",
     "is_executing": false
    }
   }
  },
  {
   "cell_type": "code",
   "execution_count": 3,
   "outputs": [
    {
     "data": {
      "text/plain": "<All keys matched successfully>"
     },
     "metadata": {},
     "output_type": "execute_result",
     "execution_count": 3
    }
   ],
   "source": [
    "net.net.load_state_dict(torch.load('trained.pth'))"
   ],
   "metadata": {
    "collapsed": false,
    "pycharm": {
     "name": "#%%\n",
     "is_executing": false
    }
   }
  },
  {
   "cell_type": "code",
   "execution_count": 9,
   "outputs": [
    {
     "name": "stdout",
     "text": [
      "Score : 455.0\n"
     ],
     "output_type": "stream"
    }
   ],
   "source": [
    "net.eval()\n",
    "done = False\n",
    "\n",
    "score = 0\n",
    "state = env.reset()\n",
    "state = torch.tensor(state).float().to(device)\n",
    "state = state.unsqueeze(0)\n",
    "\n",
    "while not done:\n",
    "    action = net.get_action(state)\n",
    "    next_state, reward, done, _ = env.step(action)\n",
    "    next_state = torch.tensor(next_state).float().to(device)\n",
    "    next_state = next_state.unsqueeze(0)\n",
    "    env.render()\n",
    "    score += reward\n",
    "    state = next_state\n",
    "\n",
    "env.close()\n",
    "\n",
    "print(f\"Score : {score}\")"
   ],
   "metadata": {
    "collapsed": false,
    "pycharm": {
     "name": "#%%\n",
     "is_executing": false
    }
   }
  }
 ],
 "metadata": {
  "kernelspec": {
   "display_name": "Python 3",
   "language": "python",
   "name": "python3"
  },
  "language_info": {
   "codemirror_mode": {
    "name": "ipython",
    "version": 2
   },
   "file_extension": ".py",
   "mimetype": "text/x-python",
   "name": "python",
   "nbconvert_exporter": "python",
   "pygments_lexer": "ipython2",
   "version": "2.7.6"
  },
  "pycharm": {
   "stem_cell": {
    "cell_type": "raw",
    "source": [],
    "metadata": {
     "collapsed": false
    }
   }
  }
 },
 "nbformat": 4,
 "nbformat_minor": 0
}